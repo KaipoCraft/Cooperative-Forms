{
 "cells": [
  {
   "cell_type": "code",
   "execution_count": null,
   "id": "0698bcf3",
   "metadata": {},
   "outputs": [],
   "source": [
    "# @author Neill Kaipo Shikada\n",
    "## ATLAS Institute - Design Methods Final Project\n",
    "## Artist Statement\n",
    "    ## Create a cooperative drawing program meant to use pose detection to allow drawing between an\n",
    "    ## participant's hands. The distance between their hands dictates the radius while the mean between\n",
    "    ## the hands is the centerpoint of the circle.\n",
    "    \n",
    "    ## Code inspired by Nicholas Renotte"
   ]
  },
  {
   "cell_type": "code",
   "execution_count": null,
   "id": "6e1c24ed",
   "metadata": {
    "scrolled": true
   },
   "outputs": [],
   "source": [
    "!pip install mediapipe opencv-python"
   ]
  },
  {
   "cell_type": "code",
   "execution_count": null,
   "id": "150542bf",
   "metadata": {},
   "outputs": [],
   "source": [
    "import cv2\n",
    "import mediapipe as mp\n",
    "import numpy as np\n",
    "import uuid\n",
    "import os\n",
    "mp_drawing = mp.solutions.drawing_utils\n",
    "mp_pose = mp.solutions.pose"
   ]
  },
  {
   "cell_type": "code",
   "execution_count": null,
   "id": "975901e8",
   "metadata": {},
   "outputs": [],
   "source": [
    "def calculate_mean(a,b):\n",
    "    a = np.array(a) #First point\n",
    "    b = np.array(b) #Second point\n",
    "    \n",
    "    # Calculate mean of the points\n",
    "    x = (a[0]+b[0])/2\n",
    "    y = (a[1]+b[1])/2\n",
    "    \n",
    "    return x,y"
   ]
  },
  {
   "cell_type": "code",
   "execution_count": null,
   "id": "0ccde798",
   "metadata": {},
   "outputs": [],
   "source": [
    "def calculate_distance(a,b):\n",
    "    a = np.array(a) #First point\n",
    "    b = np.array(b) #Second point\n",
    "    x1 = a[0]\n",
    "    x2 = b[0]\n",
    "    y1 = a[1]\n",
    "    y2 = b[1]\n",
    "    \n",
    "    # Calculate the distance between the points\n",
    "    d = ((((x2 - x1 )**2) + ((y2-y1)**2) )**0.5)\n",
    "    \n",
    "    return d"
   ]
  },
  {
   "cell_type": "code",
   "execution_count": null,
   "id": "da220aa5",
   "metadata": {},
   "outputs": [],
   "source": [
    "def calculate_depth(z):\n",
    "    \n",
    "    depth = (z*-100) + 100\n",
    "    \n",
    "    return depth"
   ]
  },
  {
   "cell_type": "code",
   "execution_count": null,
   "id": "d07751fc",
   "metadata": {},
   "outputs": [],
   "source": [
    "def extract_center(center_coordinates):    \n",
    "    \n",
    "    centerlist.append(center_coordinates)\n",
    "       \n",
    "    return centerlist"
   ]
  },
  {
   "cell_type": "code",
   "execution_count": null,
   "id": "85d075bd",
   "metadata": {},
   "outputs": [],
   "source": [
    "def extract_radius(radius):    \n",
    "    \n",
    "    radiuslist.append(radius)\n",
    "       \n",
    "    return radiuslist"
   ]
  },
  {
   "cell_type": "code",
   "execution_count": null,
   "id": "afa43e65",
   "metadata": {},
   "outputs": [],
   "source": [
    "def extract_color(depth):\n",
    "    \n",
    "    color = ((center_coordinates[0]/2), (depth-depth*0.5), (depth+depth*0.25))\n",
    "    \n",
    "    colorlist.append(color)\n",
    "    \n",
    "    return colorlist"
   ]
  },
  {
   "cell_type": "code",
   "execution_count": null,
   "id": "19711135",
   "metadata": {},
   "outputs": [],
   "source": [
    "cap = cv2.VideoCapture(0)\n",
    "if not cap.isOpened():\n",
    "    raise Exception(\"Could not open video device\")\n",
    "# Adjust the window dimensions\n",
    "cap.set(cv2.CAP_PROP_FRAME_WIDTH, 1080)\n",
    "\n",
    "# Make Window fullscreen\n",
    "window_name = \"Cooperative Forms\"\n",
    "cv2.namedWindow(window_name, cv2.WND_PROP_FULLSCREEN)\n",
    "cv2.setWindowProperty(window_name, cv2.WND_PROP_FULLSCREEN, cv2.WINDOW_FULLSCREEN)\n",
    "\n",
    "centerlist = []\n",
    "radiuslist = []\n",
    "colorlist = []\n",
    "\n",
    "## Setup the mediapipe instance\n",
    "with mp_pose.Pose(min_detection_confidence=0.8, min_tracking_confidence=0.5) as pose:\n",
    "    while cap.isOpened():\n",
    "        ret, frame = cap.read()\n",
    "        \n",
    "        # Recolor Image\n",
    "        image = cv2.cvtColor(frame, cv2.COLOR_BGR2RGB)\n",
    "        # Flip image horizontally\n",
    "        image = cv2.flip(image, 1)\n",
    "        image.flags.writeable = False\n",
    "        \n",
    "        # Activates the pose detection function from mediapipe and stores those in an array in \"results\"\n",
    "        results = pose.process(image)\n",
    "        \n",
    "        # Recolors image back\n",
    "        image.flags.writeable = True\n",
    "        image = cv2.cvtColor(image, cv2.COLOR_RGB2BGR)\n",
    "        \n",
    "        try:\n",
    "            landmarks = results.pose_landmarks.landmark\n",
    "            \n",
    "            # Extract Landmarks\n",
    "            ri = [landmarks[mp_pose.PoseLandmark.RIGHT_INDEX.value].x,landmarks[mp_pose.PoseLandmark.RIGHT_INDEX.value].y]\n",
    "            li = [landmarks[mp_pose.PoseLandmark.LEFT_INDEX.value].x,landmarks[mp_pose.PoseLandmark.LEFT_INDEX.value].y]\n",
    "            rz = landmarks[mp_pose.PoseLandmark.RIGHT_INDEX.value].z\n",
    "            lz = landmarks[mp_pose.PoseLandmark.LEFT_INDEX.value].z\n",
    "            rviz = landmarks[mp_pose.PoseLandmark.RIGHT_INDEX.value].visibility\n",
    "            lviz = landmarks[mp_pose.PoseLandmark.LEFT_INDEX.value].visibility\n",
    "            \n",
    "            # Calculate Mean\n",
    "            mean = calculate_mean(ri, li)\n",
    "            distance = calculate_distance(ri, li)\n",
    "            depth = calculate_depth(rz)\n",
    "            \n",
    "            # Draw circle at the mean\n",
    "            center_coordinates = tuple(np.multiply(mean, [960, 480]).astype(int))\n",
    "            radius = int((distance*15)**2)\n",
    "            #color = tuple(depth, (depth-(depth*1.25), 200)\n",
    "            cv2.circle(image, center_coordinates, radius, (255,255,255), 1)\n",
    "            \n",
    "        except:\n",
    "            pass\n",
    "        \n",
    "        \n",
    "        try:\n",
    "            if rviz >= 0.5 and lviz >= 0.5:\n",
    "                extract_center(center_coordinates)\n",
    "                extract_color(depth)\n",
    "                if radius <= 100:\n",
    "                    extract_radius(radius)\n",
    "                    \n",
    "            i = 0\n",
    "            while i<len(centerlist):\n",
    "                cv2.circle(image, centerlist[i], radiuslist[i], colorlist[i], -1)\n",
    "                i += 1\n",
    "        except:\n",
    "            pass\n",
    "        \n",
    "        if cv2.waitKey(10) & 0xFF == ord(' '):\n",
    "            centerlist = []\n",
    "            radiuslist = []\n",
    "            colorlist = []\n",
    "        \n",
    "        # Render the detections\n",
    "        mp_drawing.draw_landmarks(image, results.pose_landmarks, mp_pose.POSE_CONNECTIONS,\n",
    "                                mp_drawing.DrawingSpec(color=(150,150,150), thickness=1, circle_radius=2),\n",
    "                                 mp_drawing.DrawingSpec(color=(150,150,150), thickness=1, circle_radius=2)\n",
    "                                )\n",
    "        \n",
    "        cv2.imshow('Cooperative Forms', image)\n",
    "        \n",
    "        if cv2.waitKey(10) & 0xFF == ord('q'): \n",
    "            break\n",
    "            \n",
    "# Save our image  \n",
    "cv2.imwrite(os.path.join('Output Images', '{}.jpg'.format(uuid.uuid1())), image)\n",
    "cv2.imshow('Hand Tracking', image)   \n",
    "\n",
    "cap.release()\n",
    "cv2.destroyAllWindows()"
   ]
  }
 ],
 "metadata": {
  "kernelspec": {
   "display_name": "Python 3",
   "language": "python",
   "name": "python3"
  },
  "language_info": {
   "codemirror_mode": {
    "name": "ipython",
    "version": 3
   },
   "file_extension": ".py",
   "mimetype": "text/x-python",
   "name": "python",
   "nbconvert_exporter": "python",
   "pygments_lexer": "ipython3",
   "version": "3.8.8"
  }
 },
 "nbformat": 4,
 "nbformat_minor": 5
}
